{
 "cells": [
  {
   "cell_type": "markdown",
   "metadata": {},
   "source": [
    "# Exercises"
   ]
  },
  {
   "cell_type": "markdown",
   "metadata": {},
   "source": [
    "## Question 1"
   ]
  },
  {
   "cell_type": "markdown",
   "metadata": {},
   "source": [
    "**Predict the Output.**"
   ]
  },
  {
   "cell_type": "code",
   "execution_count": null,
   "metadata": {},
   "outputs": [],
   "source": [
    "for i in [1, 2, 3, 4, 5]:\n",
    "    print (\"hello\")\n",
    "\n",
    "    Answer: run hello 5 times."
   ]
  },
  {
   "cell_type": "markdown",
   "metadata": {},
   "source": [
    "## Question 2"
   ]
  },
  {
   "cell_type": "markdown",
   "metadata": {},
   "source": [
    "**Predict the Output.**"
   ]
  },
  {
   "cell_type": "code",
   "execution_count": null,
   "metadata": {},
   "outputs": [],
   "source": [
    "for i in [1, 2, 3, 4, 5]:\n",
    "    print (i)\n",
    "\n",
    "    answer: 1,2,3,4,5"
   ]
  },
  {
   "cell_type": "markdown",
   "metadata": {},
   "source": [
    "## Question 3"
   ]
  },
  {
   "cell_type": "markdown",
   "metadata": {},
   "source": [
    "**Predict the Output.**"
   ]
  },
  {
   "cell_type": "code",
   "execution_count": null,
   "metadata": {},
   "outputs": [],
   "source": [
    "for looper in [1, 2, 3, 4, 5]:\n",
    "    print (looper, \"times 8 =\", looper * 8)\n",
    "\n",
    "    Answer: \n",
    "1 times 8 = 8\n",
    "2 times 8 = 16\n",
    "3 times 8 = 24\n",
    "4 times 8 = 32\n",
    "5 times 8 = 40"
   ]
  },
  {
   "cell_type": "markdown",
   "metadata": {},
   "source": [
    "## Question 4"
   ]
  },
  {
   "cell_type": "markdown",
   "metadata": {},
   "source": [
    "**Predict the Output.**"
   ]
  },
  {
   "cell_type": "code",
   "execution_count": null,
   "metadata": {
    "scrolled": true
   },
   "outputs": [],
   "source": [
    "import time\n",
    "for i in range (5, 0, -1):         #Counts backward. \n",
    "                                     #Range ([start], [stop], [ step])\n",
    "                                    #start: Starting number of the sequence.\n",
    "                                    #stop: Generate numbers up to, but not including this number.\n",
    "                                    #step: Difference between each number in the sequence.\n",
    "    print (i)\n",
    "    time.sleep(1)                   #Waits one second\n",
    "print (\"BLAST OFF!\")\n",
    "\n",
    "Answer: \n",
    "5\n",
    "4\n",
    "3\n",
    "2\n",
    "1\n",
    "BLAST OFF!"
   ]
  },
  {
   "cell_type": "markdown",
   "metadata": {},
   "source": [
    "## Question 5"
   ]
  },
  {
   "cell_type": "markdown",
   "metadata": {},
   "source": [
    "**Predict the Output.**"
   ]
  },
  {
   "cell_type": "code",
   "execution_count": null,
   "metadata": {
    "scrolled": true
   },
   "outputs": [],
   "source": [
    "for i in range(1, 6, 2):\n",
    "    print ('Hi, Warren')\n",
    "\n",
    "\n",
    "    Answer: \n",
    "1)Hi, Warren\n",
    "3)Hi, Warren\n",
    "5)Hi, Warren"
   ]
  },
  {
   "cell_type": "markdown",
   "metadata": {},
   "source": [
    "## Question 6"
   ]
  },
  {
   "cell_type": "markdown",
   "metadata": {},
   "source": [
    "**Fill in the blank such that program prints \"Hello! How are you\" 5 times but 3rd time it prints only \"Hello!\"**"
   ]
  },
  {
   "cell_type": "code",
   "execution_count": null,
   "metadata": {},
   "outputs": [],
   "source": [
    "\n",
    "for i in range (6):\n",
    "    print ('i =', i) \n",
    "    print ('Hello!', end = \" \")   # Note: end = '' appends space instead of new line\n",
    "    if ________: \n",
    "        print()\n",
    "        continue \n",
    "    print ('How are you')\n",
    "\n",
    "    Answer: if i ==2"
   ]
  },
  {
   "cell_type": "markdown",
   "metadata": {},
   "source": [
    "## Question 7"
   ]
  },
  {
   "cell_type": "markdown",
   "metadata": {},
   "source": [
    "11. What does the following for loop output?\n"
   ]
  },
  {
   "cell_type": "code",
   "execution_count": null,
   "metadata": {
    "scrolled": true
   },
   "outputs": [],
   "source": [
    "nums = [10, 30, 20, 40]\n",
    "\n",
    "for k in range(1, 4):    # range(1,4) refers to [1,2,3]   --> k = 1, k = 2, k = 3\n",
    "    print(nums[k])       # print nums[1], nums[2], nums[3]"
   ]
  },
  {
   "cell_type": "markdown",
   "metadata": {},
   "source": [
    "Answer : B   \n",
    "            (a) 10 (b) 30 (c) 10\n",
    "                30     20     30\n",
    "                20     40     20\n",
    "                              40    "
   ]
  },
  {
   "cell_type": "markdown",
   "metadata": {},
   "source": [
    "## Question 8"
   ]
  },
  {
   "cell_type": "markdown",
   "metadata": {},
   "source": [
    "**Write a python program to 1) ask the user the length of password and 2) generate a password randomly of given length.**"
   ]
  },
  {
   "cell_type": "code",
   "execution_count": null,
   "metadata": {},
   "outputs": [],
   "source": [
    "\n",
    " \n",
    "    "
   ]
  },
  {
   "cell_type": "markdown",
   "metadata": {},
   "source": [
    "**Step 1 import library \"random\"**"
   ]
  },
  {
   "cell_type": "code",
   "execution_count": 1,
   "metadata": {},
   "outputs": [
    {
     "output_type": "execute_result",
     "data": {
      "text/plain": [
       "'k'"
      ]
     },
     "metadata": {},
     "execution_count": 1
    }
   ],
   "source": [
    "#import library random\n",
    "import random\n",
    "random.choice('ri39fk')"
   ]
  },
  {
   "cell_type": "markdown",
   "metadata": {},
   "source": [
    "**Combine random alphabets,numbers and special characters, and store it in a variable called password.**"
   ]
  },
  {
   "cell_type": "code",
   "execution_count": 2,
   "metadata": {},
   "outputs": [
    {
     "output_type": "error",
     "ename": "ValueError",
     "evalue": "invalid literal for int() with base 10: ''",
     "traceback": [
      "\u001b[0;31m---------------------------------------------------------------------------\u001b[0m",
      "\u001b[0;31mValueError\u001b[0m                                Traceback (most recent call last)",
      "\u001b[0;32m<ipython-input-2-6f0aaa8220f6>\u001b[0m in \u001b[0;36m<module>\u001b[0;34m\u001b[0m\n\u001b[0;32m----> 1\u001b[0;31m \u001b[0mlength\u001b[0m \u001b[0;34m=\u001b[0m \u001b[0mint\u001b[0m\u001b[0;34m(\u001b[0m\u001b[0minput\u001b[0m\u001b[0;34m(\u001b[0m\u001b[0;34m\"What is the desired length of your password: \"\u001b[0m\u001b[0;34m)\u001b[0m\u001b[0;34m)\u001b[0m\u001b[0;34m\u001b[0m\u001b[0;34m\u001b[0m\u001b[0m\n\u001b[0m\u001b[1;32m      2\u001b[0m \u001b[0;34m\u001b[0m\u001b[0m\n\u001b[1;32m      3\u001b[0m \u001b[0mchars\u001b[0m \u001b[0;34m=\u001b[0m \u001b[0;34m'abcdefghijklmnopqrstuvwxyz1234567890!@#$%^&*.'\u001b[0m\u001b[0;34m\u001b[0m\u001b[0;34m\u001b[0m\u001b[0m\n\u001b[1;32m      4\u001b[0m \u001b[0mpassword\u001b[0m \u001b[0;34m=\u001b[0m \u001b[0;34m''\u001b[0m \u001b[0;31m#The output\u001b[0m\u001b[0;34m\u001b[0m\u001b[0;34m\u001b[0m\u001b[0m\n\u001b[1;32m      5\u001b[0m \u001b[0;34m\u001b[0m\u001b[0m\n",
      "\u001b[0;31mValueError\u001b[0m: invalid literal for int() with base 10: ''"
     ]
    }
   ],
   "source": [
    "length = int(input(\"What is the desired length of your password: \"))\n",
    "\n",
    "chars = 'abcdefghijklmnopqrstuvwxyz1234567890!@#$%^&*.'\n",
    "password = '' #The output\n",
    "\n",
    "# Take input from user.\n",
    "\n",
    "# generate for loop\n",
    "for i in range (length):\n",
    "    password  += random.choice (chars)\n",
    "print(password)\n"
   ]
  },
  {
   "cell_type": "markdown",
   "metadata": {},
   "source": [
    "## Question 10 "
   ]
  },
  {
   "cell_type": "markdown",
   "metadata": {},
   "source": [
    "**What is the output of this code if input my_input = 0? What is the output if my_input=5?**"
   ]
  },
  {
   "cell_type": "code",
   "execution_count": null,
   "metadata": {},
   "outputs": [],
   "source": [
    "a = 1\n",
    "\n",
    "while a <= 3:\n",
    "    my_input = int (input (\"enter a no: \"))\n",
    "    if my_input == 0:\n",
    "        print (\"your input is 0\")\n",
    "        break\n",
    "    a+=1\n",
    "    print (\"looping\")\n",
    "\n",
    "print('thank you')\n",
    "\n"
   ]
  },
  {
   "cell_type": "code",
   "execution_count": null,
   "metadata": {},
   "outputs": [],
   "source": [
    "Answer: output for myinput =0 is Your input is 0. Thank you. output for myinput =5 is looping until it runs 3 times. After 3 times, thank you will appear."
   ]
  },
  {
   "cell_type": "markdown",
   "metadata": {},
   "source": [
    "## Question 11"
   ]
  },
  {
   "cell_type": "markdown",
   "metadata": {},
   "source": [
    "**Write a Python program to count the elements in a list before it first hits a tuple.**"
   ]
  },
  {
   "cell_type": "code",
   "execution_count": null,
   "metadata": {},
   "outputs": [],
   "source": [
    "number = [10,20,(1,2),40]\n",
    "\n",
    "counter = 0\n",
    "\n",
    "# for loop \n",
    "\n",
    "for i in range (len(number)):\n",
    "    if not (type(number[i]) is tuple):\n",
    "        counter += 1\n",
    "    \n",
    "    else:\n",
    "        break\n",
    "\n",
    "print(counter)\n",
    "print(\"Done!\")\n",
    "\n",
    "\n"
   ]
  },
  {
   "cell_type": "markdown",
   "metadata": {},
   "source": [
    "## Question 12 - a revisit!"
   ]
  },
  {
   "cell_type": "markdown",
   "metadata": {},
   "source": [
    "A king played chess with his subject and his subject won. He asked the subject what he wanted in return. <br> \n",
    "The subject, being clever, asked for one grain of wheat on the first square, two grains of wheat on the second square, four grains of wheat on the third square, and so forth, doubling the amount on each next square. \n",
    "\n",
    "**Calculate how much wheat the last square would be in kg. There are 64 squares in a chess board. A grain of wheat weighs approximately $1/7,000$ of a kg.**"
   ]
  },
  {
   "cell_type": "code",
   "execution_count": 1,
   "metadata": {},
   "outputs": [
    {
     "name": "stdout",
     "output_type": "stream",
     "text": [
      "Total grain weight in kg:  1317624576693539.5\n"
     ]
    }
   ],
   "source": [
    "# first square = 1         --> 2**0\n",
    "# second square = 2        --> 2**1\n",
    "# third square = 2*2 = 4   --> 2**2\n",
    "# fourth square = 2*2*2 = 8 --> 2**3 .......\n",
    "\n",
    "total_grains=2**63\n",
    "total_weight =total_grains/7000\n",
    "print (\"Total grain weight in kg: \", total_weight)"
   ]
  },
  {
   "cell_type": "markdown",
   "metadata": {},
   "source": [
    "**Now, using your knowledge in loops how do you calculate total grains?**"
   ]
  },
  {
   "cell_type": "code",
   "execution_count": 3,
   "metadata": {},
   "outputs": [
    {
     "output_type": "stream",
     "name": "stdout",
     "text": [
      "Total grain weight in kg:  8.432797290838642e+16\n"
     ]
    }
   ],
   "source": [
    "total = 0\n",
    "\n",
    "for i in range (64):\n",
    "    total_grains= 2**63\n",
    "    total_weight = total_grains/7000\n",
    "    total += total_weight\n",
    "\n",
    "print (\"Total grain weight in kg: \", total)"
   ]
  },
  {
   "cell_type": "code",
   "execution_count": null,
   "metadata": {},
   "outputs": [],
   "source": []
  }
 ],
 "metadata": {
  "kernelspec": {
   "name": "Python 3.8.5 64-bit",
   "display_name": "Python 3.8.5 64-bit",
   "metadata": {
    "interpreter": {
     "hash": "082e9a3bcad0a290d0001e938aa60b99250c6c2ef33a923c00b70f9826caf4b7"
    }
   }
  },
  "language_info": {
   "codemirror_mode": {
    "name": "ipython",
    "version": 3
   },
   "file_extension": ".py",
   "mimetype": "text/x-python",
   "name": "python",
   "nbconvert_exporter": "python",
   "pygments_lexer": "ipython3",
   "version": "3.8.5-final"
  }
 },
 "nbformat": 4,
 "nbformat_minor": 2
}